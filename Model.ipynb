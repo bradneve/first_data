{
  "cells": [
    {
      "cell_type": "markdown",
      "metadata": {
        "id": "view-in-github",
        "colab_type": "text"
      },
      "source": [
        "<a href=\"https://colab.research.google.com/github/bradneve/first_machine_learning-_model_final_project/blob/main/Model.ipynb\" target=\"_parent\"><img src=\"https://colab.research.google.com/assets/colab-badge.svg\" alt=\"Open In Colab\"/></a>"
      ]
    },
    {
      "cell_type": "code",
      "execution_count": 1,
      "metadata": {
        "id": "vmeD3wM7l2if"
      },
      "outputs": [],
      "source": [
        "import requests\n",
        "import json\n",
        "import csv\n",
        "import pandas as pd\n",
        "from numpy import nan\n",
        "import numpy as np\n",
        "import seaborn as sns\n",
        "import matplotlib.pyplot as plt\n",
        "from sklearn.model_selection import train_test_split\n",
        "from sklearn.tree import DecisionTreeClassifier, plot_tree"
      ]
    },
    {
      "cell_type": "code",
      "execution_count": 29,
      "metadata": {
        "id": "VtxR1o_uFphj"
      },
      "outputs": [],
      "source": [
        "name_response = requests.get(\"https://fantasy.premierleague.com/api/bootstrap-static/\")\n",
        "names = name_response.json()[\"elements\"]\n",
        "teams = name_response.json()[\"teams\"]"
      ]
    },
    {
      "cell_type": "code",
      "execution_count": 293,
      "metadata": {
        "id": "vi2tSKTPqG4R"
      },
      "outputs": [],
      "source": [
        "games_data = []\n",
        "for i in range(1, len(names)):\n",
        "  for name in names:\n",
        "    if name[\"id\"] == i:\n",
        "      bootstrap_player_data = name\n",
        "      break\n",
        "  response = requests.get(f\"https://fantasy.premierleague.com/api/element-summary/{i}/\")\n",
        "  player_games_data = response.json()\n",
        "  prev_game = {\"influence\":0, \"summed_influence\":0, \"creativity\":0, \"summed_creativity\":0, \"threat\":0, \"summed_threat\":0,\"summed_ict\": 0, \"ict_index\": 0, \"minutes\": 0, \"total_mins\": 0, \"total_goals\": 0, \"goals_scored\": 0, \"goals_conceded\": 0, \"total_goals_conceded\": 0, \"total_assists\": 0, \"assists\": 0}\n",
        "  for x in player_games_data[\"history\"]:\n",
        "    x[\"position\"] = bootstrap_player_data[\"element_type\"]\n",
        "    x[\"id\"] = bootstrap_player_data[\"id\"]\n",
        "    x[\"value\"] = float(x[\"value\"])\n",
        "    x[\"next_opponent\"] = player_games_data[\"fixtures\"][0][\"difficulty\"]\n",
        "    x[\"opponent_team\"] = int(x[\"opponent_team\"])\n",
        "    x[\"opponent_team_strength\"] = float(teams[x[\"opponent_team\"]-1][\"strength\"])\n",
        "    x[\"gameweek\"] = float(x[\"round\"])\n",
        "    x[\"influence\"] = float(x[\"influence\"])\n",
        "    x[\"creativity\"] = float(x[\"creativity\"])\n",
        "    x[\"threat\"] = float(x[\"threat\"])\n",
        "    x[\"summed_influence\"] = prev_game[\"summed_influence\"] + prev_game[\"influence\"]\n",
        "    x[\"summed_creativity\"] = prev_game[\"summed_creativity\"] + prev_game[\"creativity\"]\n",
        "    x[\"summed_threat\"] = prev_game[\"summed_threat\"] + prev_game[\"threat\"]\n",
        "    x[\"ict_index\"] = float(x[\"ict_index\"])\n",
        "    x[\"minutes\"] = float(x[\"minutes\"])\n",
        "    x[\"summed_ict\"] = prev_game[\"summed_ict\"] + prev_game[\"ict_index\"]\n",
        "    x[\"total_mins\"] = prev_game[\"minutes\"] + prev_game[\"total_mins\"]\n",
        "    x[\"total_goals\"] = prev_game[\"goals_scored\"] + prev_game[\"total_goals\"]\n",
        "    x[\"total_goals_conceded\"] = prev_game[\"goals_conceded\"] + prev_game[\"total_goals_conceded\"]\n",
        "    x[\"total_assists\"] = prev_game[\"assists\"] + prev_game[\"total_assists\"]\n",
        "\n",
        "    if x[\"minutes\"] == 0 and prev_game[\"total_mins\"] == 0:\n",
        "      x[\"average_influence_per_90\"] = round(prev_game[\"summed_influence\"], 1)\n",
        "      x[\"average_creativity_per_90\"] = round(prev_game[\"summed_creativity\"], 1)\n",
        "      x[\"average_threat_per_90\"] = round(prev_game[\"summed_threat\"], 1)\n",
        "      x[\"average_ict_per_90\"] = round(prev_game[\"summed_ict\"], 1)\n",
        "      x[\"average_goals_per_90\"] = round(prev_game[\"total_goals\"], 1)\n",
        "      x[\"average_goals_conceded_per_90\"] = round(prev_game[\"total_goals_conceded\"], 1)\n",
        "      x[\"average_assists_per_90\"] = round(prev_game[\"total_assists\"], 1)\n",
        "      x[\"average_mins\"] = (prev_game[\"minutes\"] + prev_game[\"total_mins\"])/(player_games_data[\"history\"].index(x)+1)\n",
        "      games_data.append(x)\n",
        "      prev_game = x\n",
        "\n",
        "    elif prev_game[\"total_mins\"] == 0 :\n",
        "      x[\"average_influence_per_90\"] = round(90*prev_game[\"influence\"]/x[\"minutes\"], 1)\n",
        "      x[\"average_creativity_per_90\"] = round(90*prev_game[\"creativity\"]/x[\"minutes\"], 1)\n",
        "      x[\"average_threat_per_90\"] = round(90*prev_game[\"threat\"]/x[\"minutes\"], 1)\n",
        "      x[\"average_ict_per_90\"] = round(90*prev_game[\"ict_index\"]/x[\"minutes\"], 1)\n",
        "      x[\"average_goals_per_90\"] = round(90*prev_game[\"goals_scored\"]/x[\"minutes\"], 1)\n",
        "      x[\"average_goals_conceded_per_90\"] = round(90*prev_game[\"goals_conceded\"]/x[\"minutes\"], 1)\n",
        "      x[\"average_assists_per_90\"] = round(90*prev_game[\"assists\"]/x[\"minutes\"], 1)\n",
        "      x[\"average_mins\"] = (prev_game[\"minutes\"] + prev_game[\"total_mins\"])/(player_games_data[\"history\"].index(x)+1)\n",
        "      games_data.append(x)\n",
        "      prev_game = x\n",
        "\n",
        "    else:\n",
        "      x[\"average_influence_per_90\"] = round(90*prev_game[\"summed_influence\"]/prev_game[\"total_mins\"], 1)\n",
        "      x[\"average_creativity_per_90\"] = round(90*prev_game[\"summed_creativity\"]/prev_game[\"total_mins\"], 1)\n",
        "      x[\"average_threat_per_90\"] = round(90*prev_game[\"summed_threat\"]/prev_game[\"total_mins\"], 1)\n",
        "      x[\"average_ict_per_90\"] = round(90*prev_game[\"summed_ict\"]/prev_game[\"total_mins\"], 1)\n",
        "      x[\"average_goals_per_90\"] = round(90*prev_game[\"total_goals\"]/prev_game[\"total_mins\"], 1)\n",
        "      x[\"average_goals_conceded_per_90\"] = round(90*prev_game[\"total_goals_conceded\"]/prev_game[\"total_mins\"], 1)\n",
        "      x[\"average_assists_per_90\"] = round(90*prev_game[\"total_assists\"]/prev_game[\"total_mins\"], 1)\n",
        "      x[\"average_mins\"] = (prev_game[\"minutes\"] + prev_game[\"total_mins\"])/(player_games_data[\"history\"].index(x))\n",
        "      games_data.append(x)\n",
        "      prev_game = x"
      ]
    },
    {
      "cell_type": "code",
      "execution_count": 4,
      "metadata": {
        "id": "S1U8iQYpvaQS"
      },
      "outputs": [],
      "source": [
        "# def select_data(player):\n",
        "#     return {\n",
        "#         \"id\": player[\"id\"],\n",
        "#         \"gameweek\": player[\"gameweek\"],\n",
        "#         \"total_points\": player[\"total_points\"],\n",
        "#         \"position\": player[\"position\"],\n",
        "#         \"was_home\": player[\"was_home\"],\n",
        "#         \"opponent_team\": player[\"opponent_team\"],\n",
        "#         \"average_goals_per_90\": player[\"average_goals_per_90\"],\n",
        "#         \"average_assists_per_90\": player[\"average_assists_per_90\"],\n",
        "#         \"average_ict_per_90\": player[\"average_ict_per_90\"],\n",
        "#         \"average_goals_conceded_per_90\": player[\"average_goals_conceded_per_90\"],\n",
        "#         \"average_influence_per_90\": player[\"average_influence_per_90\"],\n",
        "#         \"average_creativity_per_90\": player[\"average_creativity_per_90\"],\n",
        "#         \"average_threat_per_90\": player[\"average_threat_per_90\"],\n",
        "#         \"value\": player[\"value\"]\n",
        "#     }\n",
        "\n",
        "# for i in range(len(games_data)):\n",
        "#   games_data[i] = select_data(games_data[i])"
      ]
    },
    {
      "cell_type": "code",
      "execution_count": 295,
      "metadata": {
        "id": "5VIavgw6wzOk"
      },
      "outputs": [],
      "source": [
        "headers = ['id', 'gameweek', 'total_points', \"position\", 'was_home', 'opponent_team_strength', 'average_goals_per_90', \"average_assists_per_90\", \"average_ict_per_90\", \"average_goals_conceded_per_90\", \"value\", \"average_influence_per_90\", \"average_creativity_per_90\", \"average_threat_per_90\", \"average_mins\", \"minutes\"]\n",
        "\n",
        "with open(\"player_data.csv\", \"w\", newline='') as file:\n",
        "    f = csv.writer(file)\n",
        "    f.writerow(headers)\n",
        "    for p in games_data:\n",
        "        values = [p[h] for h in headers]\n",
        "        f.writerow(values)"
      ]
    },
    {
      "cell_type": "code",
      "execution_count": 296,
      "metadata": {
        "id": "xDB6I1npxe3i"
      },
      "outputs": [],
      "source": [
        "player_data = pd.read_csv('player_data.csv')"
      ]
    },
    {
      "cell_type": "code",
      "execution_count": 324,
      "metadata": {
        "id": "Uv_B8h4Uxn9q"
      },
      "outputs": [],
      "source": [
        "player_data = player_data.drop(player_data[player_data[\"total_points\"] > 17].index)\n",
        "player_data = player_data.drop(player_data[(player_data[\"total_points\"] > 13) & (player_data[\"position\"] == 1)].index)\n",
        "player_data = player_data.drop(player_data[(player_data[\"total_points\"] > 14) & (player_data[\"position\"] == 2)].index)"
      ]
    },
    {
      "cell_type": "markdown",
      "metadata": {
        "id": "DFu3QvyNyJjo"
      },
      "source": []
    },
    {
      "cell_type": "code",
      "execution_count": 349,
      "metadata": {
        "id": "gxA_hILMxzw4"
      },
      "outputs": [],
      "source": [
        "y = player_data[\"total_points\"]\n",
        "X = player_data[['position', 'opponent_team_strength', 'was_home', 'average_goals_per_90',\n",
        "       'average_assists_per_90', 'average_ict_per_90', 'average_goals_conceded_per_90', 'value', 'average_influence_per_90',\n",
        "                'average_creativity_per_90', 'average_threat_per_90', 'average_mins', 'minutes']]\n"
      ]
    },
    {
      "cell_type": "code",
      "execution_count": 350,
      "metadata": {
        "id": "4Lm9nDh0yNr8"
      },
      "outputs": [],
      "source": [
        "X_train, X_test, y_train, y_test = train_test_split(X, y, test_size=0.05, random_state=300)"
      ]
    },
    {
      "cell_type": "code",
      "execution_count": 351,
      "metadata": {
        "id": "zF81Mjllyq9K"
      },
      "outputs": [],
      "source": [
        "model = DecisionTreeClassifier(max_depth = 50)"
      ]
    },
    {
      "cell_type": "code",
      "execution_count": 352,
      "metadata": {
        "colab": {
          "base_uri": "https://localhost:8080/"
        },
        "id": "r_ovrE37ytcO",
        "outputId": "7654a31b-9436-40ba-b98f-551c68423652"
      },
      "outputs": [
        {
          "output_type": "execute_result",
          "data": {
            "text/plain": [
              "DecisionTreeClassifier(max_depth=50)"
            ]
          },
          "metadata": {},
          "execution_count": 352
        }
      ],
      "source": [
        "model.fit(X_train, y_train)"
      ]
    },
    {
      "cell_type": "code",
      "execution_count": 353,
      "metadata": {
        "colab": {
          "base_uri": "https://localhost:8080/"
        },
        "id": "qJLPZlfDywCO",
        "outputId": "7d83c091-cf78-46a0-8ec2-d254d15ffbae"
      },
      "outputs": [
        {
          "output_type": "execute_result",
          "data": {
            "text/plain": [
              "0.731457800511509"
            ]
          },
          "metadata": {},
          "execution_count": 353
        }
      ],
      "source": [
        "model.score(X_test, y_test)"
      ]
    },
    {
      "cell_type": "code",
      "execution_count": 354,
      "metadata": {
        "colab": {
          "base_uri": "https://localhost:8080/"
        },
        "id": "kbSzoVjAZQ68",
        "outputId": "1c1ce295-c9d7-444f-a81a-82c644b726b9"
      },
      "outputs": [
        {
          "output_type": "execute_result",
          "data": {
            "text/plain": [
              "1.4373401534526855"
            ]
          },
          "metadata": {},
          "execution_count": 354
        }
      ],
      "source": [
        "model.predict(X_test).sum()/len(model.predict(X_test))"
      ]
    },
    {
      "cell_type": "code",
      "source": [
        "sns.lmplot(data=player_data[player_data[\"position\"] == 2], x=\"total_points\", y=\"average_goals_conceded_per_90\", hue=\"position\")"
      ],
      "metadata": {
        "id": "1INC6Hg5xqLr",
        "colab": {
          "base_uri": "https://localhost:8080/",
          "height": 386
        },
        "outputId": "2badd71c-ad89-4a36-fefa-703b9f44575c"
      },
      "execution_count": 304,
      "outputs": [
        {
          "output_type": "execute_result",
          "data": {
            "text/plain": [
              "<seaborn.axisgrid.FacetGrid at 0x7fdf91bdfcd0>"
            ]
          },
          "metadata": {},
          "execution_count": 304
        },
        {
          "output_type": "display_data",
          "data": {
            "text/plain": [
              "<Figure size 407.5x360 with 1 Axes>"
            ],
            "image/png": "[encoded data removed]"
          },
          "metadata": {
            "needs_background": "light"
          }
        }
      ]
    },
    {
      "cell_type": "code",
      "source": [
        "most_recent_gameweek_stats = [player for player in games_data if player[\"gameweek\"] == 14 ]\n",
        "data_to_predict_from = []\n",
        "\n",
        "\n",
        "for player in most_recent_gameweek_stats:\n",
        "  player_stats_to_predict_from = {}\n",
        "  player_stats_to_predict_from[\"id\"] = float(player[\"id\"])\n",
        "  player_stats_to_predict_from[\"value\"] = float(player[\"value\"])\n",
        "  player_stats_to_predict_from[\"position\"] = float(player[\"position\"])\n",
        "  player_stats_to_predict_from[\"was_home\"] = player[\"was_home\"]\n",
        "  player_stats_to_predict_from[\"minutes\"] = round(player[\"average_mins\"])\n",
        "  player_stats_to_predict_from[\"opponent_team_strength\"] = player[\"next_opponent\"]\n",
        "  if player[\"total_mins\"] == 0:\n",
        "    player_stats_to_predict_from[\"average_creativity_per_90\"] = 0 \n",
        "    player_stats_to_predict_from[\"average_influence_per_90\"] = 0 \n",
        "    player_stats_to_predict_from[\"average_threat_per_90\"] = 0 \n",
        "    player_stats_to_predict_from[\"average_ict_per_90\"] = 0\n",
        "    player_stats_to_predict_from[\"average_goals_per_90\"] = 0 \n",
        "    player_stats_to_predict_from[\"average_goals_conceded_per_90\"] = 0\n",
        "    player_stats_to_predict_from[\"average_assists_per_90\"] = 0 \n",
        "    player_stats_to_predict_from[\"average_mins\"] = 0 \n",
        "    data_to_predict_from.append(player_stats_to_predict_from)\n",
        "  else:\n",
        "    player_stats_to_predict_from[\"average_creativity_per_90\"] = 90*player[\"summed_creativity\"]/player[\"total_mins\"]\n",
        "    player_stats_to_predict_from[\"average_influence_per_90\"] = 90*player[\"summed_influence\"]/player[\"total_mins\"]\n",
        "    player_stats_to_predict_from[\"average_threat_per_90\"] = 90*player[\"summed_threat\"]/player[\"total_mins\"]\n",
        "    player_stats_to_predict_from[\"average_ict_per_90\"] = 90*player[\"summed_ict\"]/player[\"total_mins\"]\n",
        "    player_stats_to_predict_from[\"average_goals_per_90\"] = 90*player[\"total_goals\"]/player[\"total_mins\"]\n",
        "    player_stats_to_predict_from[\"average_goals_conceded_per_90\"] = 90*player[\"total_goals_conceded\"]/player[\"total_mins\"]\n",
        "    player_stats_to_predict_from[\"average_assists_per_90\"] = 90*player[\"total_assists\"]/player[\"total_mins\"]\n",
        "    player_stats_to_predict_from[\"average_mins\"] = player[\"average_mins\"]\n",
        "    data_to_predict_from.append(player_stats_to_predict_from)"
      ],
      "metadata": {
        "id": "ocq9nDqb2QRP"
      },
      "execution_count": 402,
      "outputs": []
    },
    {
      "cell_type": "code",
      "source": [
        "headers = ['position', 'opponent_team_strength', 'was_home', 'average_goals_per_90',\n",
        "       'average_assists_per_90', 'average_ict_per_90', 'average_goals_conceded_per_90', 'value', 'average_influence_per_90',\n",
        "                'average_creativity_per_90', 'average_threat_per_90', 'average_mins', 'minutes']\n",
        "\n",
        "with open(\"data_to_predict_from_csv.csv\", \"w\", newline='') as file:\n",
        "    f = csv.writer(file)\n",
        "    f.writerow(headers)\n",
        "    for p in data_to_predict_from:\n",
        "        values = [p[h] for h in headers]\n",
        "        f.writerow(values)"
      ],
      "metadata": {
        "id": "XohHFMem568k"
      },
      "execution_count": 356,
      "outputs": []
    },
    {
      "cell_type": "code",
      "source": [
        "data_to_predict_from_csv = pd.read_csv('data_to_predict_from_csv.csv')"
      ],
      "metadata": {
        "id": "bjDcYGxt6DHs"
      },
      "execution_count": 357,
      "outputs": []
    },
    {
      "cell_type": "code",
      "source": [
        "predicted_scores = model.predict(data_to_predict_from_csv)"
      ],
      "metadata": {
        "id": "kcpa6oiW4Y54"
      },
      "execution_count": 401,
      "outputs": []
    },
    {
      "cell_type": "code",
      "source": [
        "result = np.where( predicted_scores == 13)\n",
        "print(result)\n",
        "print(data_to_predict_from[317])"
      ],
      "metadata": {
        "colab": {
          "base_uri": "https://localhost:8080/"
        },
        "id": "o5n3DEelgGxQ",
        "outputId": "06790c46-b933-455f-f58c-1526ce180365"
      },
      "execution_count": 382,
      "outputs": [
        {
          "output_type": "stream",
          "name": "stdout",
          "text": [
            "(array([317, 513]),)\n",
            "{'id': 318.0, 'value': 122.0, 'position': 4.0, 'was_home': False, 'minutes': 84, 'opponent_team_strength': 2, 'average_creativity_per_90': 13.930434782608696, 'average_influence_per_90': 62.68695652173914, 'average_threat_per_90': 82.17391304347827, 'average_ict_per_90': 15.88695652173913, 'average_goals_per_90': 1.6630434782608696, 'average_goals_conceded_per_90': 1.076086956521739, 'average_assists_per_90': 0.29347826086956524, 'average_mins': 83.63636363636364}\n"
          ]
        }
      ]
    },
    {
      "cell_type": "markdown",
      "source": [
        "# Trying to predict One player"
      ],
      "metadata": {
        "id": "3fGUkAuB1e5j"
      }
    },
    {
      "cell_type": "code",
      "source": [
        "predicted_scores.sum()/len(predicted_scores)"
      ],
      "metadata": {
        "id": "9B5CiqBD1i9g",
        "colab": {
          "base_uri": "https://localhost:8080/"
        },
        "outputId": "793d11bb-5d16-48a8-b789-635619092086"
      },
      "execution_count": 310,
      "outputs": [
        {
          "output_type": "execute_result",
          "data": {
            "text/plain": [
              "1.233587786259542"
            ]
          },
          "metadata": {},
          "execution_count": 310
        }
      ]
    },
    {
      "cell_type": "code",
      "source": [
        "player_data[player_data[\"id\"] == 514]"
      ],
      "metadata": {
        "id": "-ABYzpRJrGWa"
      },
      "execution_count": null,
      "outputs": []
    },
    {
      "cell_type": "code",
      "source": [
        "data = {\"predictions_with_names\" : []}\n",
        "\n",
        "for i in range(654):\n",
        "    player = {}\n",
        "    player[\"id\"] = i + 1\n",
        "    player[\"predicted_points\"] =  predicted_scores[i]\n",
        "    data[\"predictions_with_names\"].append(player)\n"
      ],
      "metadata": {
        "id": "rC6V0Xj5rR1i"
      },
      "execution_count": 412,
      "outputs": []
    },
    {
      "cell_type": "code",
      "source": [
        "r = requests.post(\"http://127.0.0.1:5000/predictions\", data=data, headers={\"Content-Type\": \"application/json\"})\n"
      ],
      "metadata": {
        "id": "bibNbh_e1-fD",
        "colab": {
          "base_uri": "https://localhost:8080/",
          "height": 710
        },
        "outputId": "bb47d635-4ce7-417f-f38b-96708ed8f2ee"
      },
      "execution_count": 417,
      "outputs": [
        {
          "output_type": "error",
          "ename": "ConnectionError",
          "evalue": "ignored",
          "traceback": [
            "\u001b[0;31m---------------------------------------------------------------------------\u001b[0m",
            "\u001b[0;31mConnectionRefusedError\u001b[0m                    Traceback (most recent call last)",
            "\u001b[0;32m/usr/local/lib/python3.7/dist-packages/urllib3/connection.py\u001b[0m in \u001b[0;36m_new_conn\u001b[0;34m(self)\u001b[0m\n\u001b[1;32m    158\u001b[0m             conn = connection.create_connection(\n\u001b[0;32m--> 159\u001b[0;31m                 (self._dns_host, self.port), self.timeout, **extra_kw)\n\u001b[0m\u001b[1;32m    160\u001b[0m \u001b[0;34m\u001b[0m\u001b[0m\n",
            "\u001b[0;32m/usr/local/lib/python3.7/dist-packages/urllib3/util/connection.py\u001b[0m in \u001b[0;36mcreate_connection\u001b[0;34m(address, timeout, source_address, socket_options)\u001b[0m\n\u001b[1;32m     79\u001b[0m     \u001b[0;32mif\u001b[0m \u001b[0merr\u001b[0m \u001b[0;32mis\u001b[0m \u001b[0;32mnot\u001b[0m \u001b[0;32mNone\u001b[0m\u001b[0;34m:\u001b[0m\u001b[0;34m\u001b[0m\u001b[0;34m\u001b[0m\u001b[0m\n\u001b[0;32m---> 80\u001b[0;31m         \u001b[0;32mraise\u001b[0m \u001b[0merr\u001b[0m\u001b[0;34m\u001b[0m\u001b[0;34m\u001b[0m\u001b[0m\n\u001b[0m\u001b[1;32m     81\u001b[0m \u001b[0;34m\u001b[0m\u001b[0m\n",
            "\u001b[0;32m/usr/local/lib/python3.7/dist-packages/urllib3/util/connection.py\u001b[0m in \u001b[0;36mcreate_connection\u001b[0;34m(address, timeout, source_address, socket_options)\u001b[0m\n\u001b[1;32m     69\u001b[0m                 \u001b[0msock\u001b[0m\u001b[0;34m.\u001b[0m\u001b[0mbind\u001b[0m\u001b[0;34m(\u001b[0m\u001b[0msource_address\u001b[0m\u001b[0;34m)\u001b[0m\u001b[0;34m\u001b[0m\u001b[0;34m\u001b[0m\u001b[0m\n\u001b[0;32m---> 70\u001b[0;31m             \u001b[0msock\u001b[0m\u001b[0;34m.\u001b[0m\u001b[0mconnect\u001b[0m\u001b[0;34m(\u001b[0m\u001b[0msa\u001b[0m\u001b[0;34m)\u001b[0m\u001b[0;34m\u001b[0m\u001b[0;34m\u001b[0m\u001b[0m\n\u001b[0m\u001b[1;32m     71\u001b[0m             \u001b[0;32mreturn\u001b[0m \u001b[0msock\u001b[0m\u001b[0;34m\u001b[0m\u001b[0;34m\u001b[0m\u001b[0m\n",
            "\u001b[0;31mConnectionRefusedError\u001b[0m: [Errno 111] Connection refused",
            "\nDuring handling of the above exception, another exception occurred:\n",
            "\u001b[0;31mNewConnectionError\u001b[0m                        Traceback (most recent call last)",
            "\u001b[0;32m/usr/local/lib/python3.7/dist-packages/urllib3/connectionpool.py\u001b[0m in \u001b[0;36murlopen\u001b[0;34m(self, method, url, body, headers, retries, redirect, assert_same_host, timeout, pool_timeout, release_conn, chunked, body_pos, **response_kw)\u001b[0m\n\u001b[1;32m    599\u001b[0m                                                   \u001b[0mbody\u001b[0m\u001b[0;34m=\u001b[0m\u001b[0mbody\u001b[0m\u001b[0;34m,\u001b[0m \u001b[0mheaders\u001b[0m\u001b[0;34m=\u001b[0m\u001b[0mheaders\u001b[0m\u001b[0;34m,\u001b[0m\u001b[0;34m\u001b[0m\u001b[0;34m\u001b[0m\u001b[0m\n\u001b[0;32m--> 600\u001b[0;31m                                                   chunked=chunked)\n\u001b[0m\u001b[1;32m    601\u001b[0m \u001b[0;34m\u001b[0m\u001b[0m\n",
            "\u001b[0;32m/usr/local/lib/python3.7/dist-packages/urllib3/connectionpool.py\u001b[0m in \u001b[0;36m_make_request\u001b[0;34m(self, conn, method, url, timeout, chunked, **httplib_request_kw)\u001b[0m\n\u001b[1;32m    353\u001b[0m         \u001b[0;32melse\u001b[0m\u001b[0;34m:\u001b[0m\u001b[0;34m\u001b[0m\u001b[0;34m\u001b[0m\u001b[0m\n\u001b[0;32m--> 354\u001b[0;31m             \u001b[0mconn\u001b[0m\u001b[0;34m.\u001b[0m\u001b[0mrequest\u001b[0m\u001b[0;34m(\u001b[0m\u001b[0mmethod\u001b[0m\u001b[0;34m,\u001b[0m \u001b[0murl\u001b[0m\u001b[0;34m,\u001b[0m \u001b[0;34m**\u001b[0m\u001b[0mhttplib_request_kw\u001b[0m\u001b[0;34m)\u001b[0m\u001b[0;34m\u001b[0m\u001b[0;34m\u001b[0m\u001b[0m\n\u001b[0m\u001b[1;32m    355\u001b[0m \u001b[0;34m\u001b[0m\u001b[0m\n",
            "\u001b[0;32m/usr/lib/python3.7/http/client.py\u001b[0m in \u001b[0;36mrequest\u001b[0;34m(self, method, url, body, headers, encode_chunked)\u001b[0m\n\u001b[1;32m   1280\u001b[0m         \u001b[0;34m\"\"\"Send a complete request to the server.\"\"\"\u001b[0m\u001b[0;34m\u001b[0m\u001b[0;34m\u001b[0m\u001b[0m\n\u001b[0;32m-> 1281\u001b[0;31m         \u001b[0mself\u001b[0m\u001b[0;34m.\u001b[0m\u001b[0m_send_request\u001b[0m\u001b[0;34m(\u001b[0m\u001b[0mmethod\u001b[0m\u001b[0;34m,\u001b[0m \u001b[0murl\u001b[0m\u001b[0;34m,\u001b[0m \u001b[0mbody\u001b[0m\u001b[0;34m,\u001b[0m \u001b[0mheaders\u001b[0m\u001b[0;34m,\u001b[0m \u001b[0mencode_chunked\u001b[0m\u001b[0;34m)\u001b[0m\u001b[0;34m\u001b[0m\u001b[0;34m\u001b[0m\u001b[0m\n\u001b[0m\u001b[1;32m   1282\u001b[0m \u001b[0;34m\u001b[0m\u001b[0m\n",
            "\u001b[0;32m/usr/lib/python3.7/http/client.py\u001b[0m in \u001b[0;36m_send_request\u001b[0;34m(self, method, url, body, headers, encode_chunked)\u001b[0m\n\u001b[1;32m   1326\u001b[0m             \u001b[0mbody\u001b[0m \u001b[0;34m=\u001b[0m \u001b[0m_encode\u001b[0m\u001b[0;34m(\u001b[0m\u001b[0mbody\u001b[0m\u001b[0;34m,\u001b[0m \u001b[0;34m'body'\u001b[0m\u001b[0;34m)\u001b[0m\u001b[0;34m\u001b[0m\u001b[0;34m\u001b[0m\u001b[0m\n\u001b[0;32m-> 1327\u001b[0;31m         \u001b[0mself\u001b[0m\u001b[0;34m.\u001b[0m\u001b[0mendheaders\u001b[0m\u001b[0;34m(\u001b[0m\u001b[0mbody\u001b[0m\u001b[0;34m,\u001b[0m \u001b[0mencode_chunked\u001b[0m\u001b[0;34m=\u001b[0m\u001b[0mencode_chunked\u001b[0m\u001b[0;34m)\u001b[0m\u001b[0;34m\u001b[0m\u001b[0;34m\u001b[0m\u001b[0m\n\u001b[0m\u001b[1;32m   1328\u001b[0m \u001b[0;34m\u001b[0m\u001b[0m\n",
            "\u001b[0;32m/usr/lib/python3.7/http/client.py\u001b[0m in \u001b[0;36mendheaders\u001b[0;34m(self, message_body, encode_chunked)\u001b[0m\n\u001b[1;32m   1275\u001b[0m             \u001b[0;32mraise\u001b[0m \u001b[0mCannotSendHeader\u001b[0m\u001b[0;34m(\u001b[0m\u001b[0;34m)\u001b[0m\u001b[0;34m\u001b[0m\u001b[0;34m\u001b[0m\u001b[0m\n\u001b[0;32m-> 1276\u001b[0;31m         \u001b[0mself\u001b[0m\u001b[0;34m.\u001b[0m\u001b[0m_send_output\u001b[0m\u001b[0;34m(\u001b[0m\u001b[0mmessage_body\u001b[0m\u001b[0;34m,\u001b[0m \u001b[0mencode_chunked\u001b[0m\u001b[0;34m=\u001b[0m\u001b[0mencode_chunked\u001b[0m\u001b[0;34m)\u001b[0m\u001b[0;34m\u001b[0m\u001b[0;34m\u001b[0m\u001b[0m\n\u001b[0m\u001b[1;32m   1277\u001b[0m \u001b[0;34m\u001b[0m\u001b[0m\n",
            "\u001b[0;32m/usr/lib/python3.7/http/client.py\u001b[0m in \u001b[0;36m_send_output\u001b[0;34m(self, message_body, encode_chunked)\u001b[0m\n\u001b[1;32m   1035\u001b[0m         \u001b[0;32mdel\u001b[0m \u001b[0mself\u001b[0m\u001b[0;34m.\u001b[0m\u001b[0m_buffer\u001b[0m\u001b[0;34m[\u001b[0m\u001b[0;34m:\u001b[0m\u001b[0;34m]\u001b[0m\u001b[0;34m\u001b[0m\u001b[0;34m\u001b[0m\u001b[0m\n\u001b[0;32m-> 1036\u001b[0;31m         \u001b[0mself\u001b[0m\u001b[0;34m.\u001b[0m\u001b[0msend\u001b[0m\u001b[0;34m(\u001b[0m\u001b[0mmsg\u001b[0m\u001b[0;34m)\u001b[0m\u001b[0;34m\u001b[0m\u001b[0;34m\u001b[0m\u001b[0m\n\u001b[0m\u001b[1;32m   1037\u001b[0m \u001b[0;34m\u001b[0m\u001b[0m\n",
            "\u001b[0;32m/usr/lib/python3.7/http/client.py\u001b[0m in \u001b[0;36msend\u001b[0;34m(self, data)\u001b[0m\n\u001b[1;32m    975\u001b[0m             \u001b[0;32mif\u001b[0m \u001b[0mself\u001b[0m\u001b[0;34m.\u001b[0m\u001b[0mauto_open\u001b[0m\u001b[0;34m:\u001b[0m\u001b[0;34m\u001b[0m\u001b[0;34m\u001b[0m\u001b[0m\n\u001b[0;32m--> 976\u001b[0;31m                 \u001b[0mself\u001b[0m\u001b[0;34m.\u001b[0m\u001b[0mconnect\u001b[0m\u001b[0;34m(\u001b[0m\u001b[0;34m)\u001b[0m\u001b[0;34m\u001b[0m\u001b[0;34m\u001b[0m\u001b[0m\n\u001b[0m\u001b[1;32m    977\u001b[0m             \u001b[0;32melse\u001b[0m\u001b[0;34m:\u001b[0m\u001b[0;34m\u001b[0m\u001b[0;34m\u001b[0m\u001b[0m\n",
            "\u001b[0;32m/usr/local/lib/python3.7/dist-packages/urllib3/connection.py\u001b[0m in \u001b[0;36mconnect\u001b[0;34m(self)\u001b[0m\n\u001b[1;32m    180\u001b[0m     \u001b[0;32mdef\u001b[0m \u001b[0mconnect\u001b[0m\u001b[0;34m(\u001b[0m\u001b[0mself\u001b[0m\u001b[0;34m)\u001b[0m\u001b[0;34m:\u001b[0m\u001b[0;34m\u001b[0m\u001b[0;34m\u001b[0m\u001b[0m\n\u001b[0;32m--> 181\u001b[0;31m         \u001b[0mconn\u001b[0m \u001b[0;34m=\u001b[0m \u001b[0mself\u001b[0m\u001b[0;34m.\u001b[0m\u001b[0m_new_conn\u001b[0m\u001b[0;34m(\u001b[0m\u001b[0;34m)\u001b[0m\u001b[0;34m\u001b[0m\u001b[0;34m\u001b[0m\u001b[0m\n\u001b[0m\u001b[1;32m    182\u001b[0m         \u001b[0mself\u001b[0m\u001b[0;34m.\u001b[0m\u001b[0m_prepare_conn\u001b[0m\u001b[0;34m(\u001b[0m\u001b[0mconn\u001b[0m\u001b[0;34m)\u001b[0m\u001b[0;34m\u001b[0m\u001b[0;34m\u001b[0m\u001b[0m\n",
            "\u001b[0;32m/usr/local/lib/python3.7/dist-packages/urllib3/connection.py\u001b[0m in \u001b[0;36m_new_conn\u001b[0;34m(self)\u001b[0m\n\u001b[1;32m    167\u001b[0m             raise NewConnectionError(\n\u001b[0;32m--> 168\u001b[0;31m                 self, \"Failed to establish a new connection: %s\" % e)\n\u001b[0m\u001b[1;32m    169\u001b[0m \u001b[0;34m\u001b[0m\u001b[0m\n",
            "\u001b[0;31mNewConnectionError\u001b[0m: <urllib3.connection.HTTPConnection object at 0x7fdf9929e0d0>: Failed to establish a new connection: [Errno 111] Connection refused",
            "\nDuring handling of the above exception, another exception occurred:\n",
            "\u001b[0;31mMaxRetryError\u001b[0m                             Traceback (most recent call last)",
            "\u001b[0;32m/usr/local/lib/python3.7/dist-packages/requests/adapters.py\u001b[0m in \u001b[0;36msend\u001b[0;34m(self, request, stream, timeout, verify, cert, proxies)\u001b[0m\n\u001b[1;32m    448\u001b[0m                     \u001b[0mretries\u001b[0m\u001b[0;34m=\u001b[0m\u001b[0mself\u001b[0m\u001b[0;34m.\u001b[0m\u001b[0mmax_retries\u001b[0m\u001b[0;34m,\u001b[0m\u001b[0;34m\u001b[0m\u001b[0;34m\u001b[0m\u001b[0m\n\u001b[0;32m--> 449\u001b[0;31m                     \u001b[0mtimeout\u001b[0m\u001b[0;34m=\u001b[0m\u001b[0mtimeout\u001b[0m\u001b[0;34m\u001b[0m\u001b[0;34m\u001b[0m\u001b[0m\n\u001b[0m\u001b[1;32m    450\u001b[0m                 )\n",
            "\u001b[0;32m/usr/local/lib/python3.7/dist-packages/urllib3/connectionpool.py\u001b[0m in \u001b[0;36murlopen\u001b[0;34m(self, method, url, body, headers, retries, redirect, assert_same_host, timeout, pool_timeout, release_conn, chunked, body_pos, **response_kw)\u001b[0m\n\u001b[1;32m    637\u001b[0m             retries = retries.increment(method, url, error=e, _pool=self,\n\u001b[0;32m--> 638\u001b[0;31m                                         _stacktrace=sys.exc_info()[2])\n\u001b[0m\u001b[1;32m    639\u001b[0m             \u001b[0mretries\u001b[0m\u001b[0;34m.\u001b[0m\u001b[0msleep\u001b[0m\u001b[0;34m(\u001b[0m\u001b[0;34m)\u001b[0m\u001b[0;34m\u001b[0m\u001b[0;34m\u001b[0m\u001b[0m\n",
            "\u001b[0;32m/usr/local/lib/python3.7/dist-packages/urllib3/util/retry.py\u001b[0m in \u001b[0;36mincrement\u001b[0;34m(self, method, url, response, error, _pool, _stacktrace)\u001b[0m\n\u001b[1;32m    398\u001b[0m         \u001b[0;32mif\u001b[0m \u001b[0mnew_retry\u001b[0m\u001b[0;34m.\u001b[0m\u001b[0mis_exhausted\u001b[0m\u001b[0;34m(\u001b[0m\u001b[0;34m)\u001b[0m\u001b[0;34m:\u001b[0m\u001b[0;34m\u001b[0m\u001b[0;34m\u001b[0m\u001b[0m\n\u001b[0;32m--> 399\u001b[0;31m             \u001b[0;32mraise\u001b[0m \u001b[0mMaxRetryError\u001b[0m\u001b[0;34m(\u001b[0m\u001b[0m_pool\u001b[0m\u001b[0;34m,\u001b[0m \u001b[0murl\u001b[0m\u001b[0;34m,\u001b[0m \u001b[0merror\u001b[0m \u001b[0;32mor\u001b[0m \u001b[0mResponseError\u001b[0m\u001b[0;34m(\u001b[0m\u001b[0mcause\u001b[0m\u001b[0;34m)\u001b[0m\u001b[0;34m)\u001b[0m\u001b[0;34m\u001b[0m\u001b[0;34m\u001b[0m\u001b[0m\n\u001b[0m\u001b[1;32m    400\u001b[0m \u001b[0;34m\u001b[0m\u001b[0m\n",
            "\u001b[0;31mMaxRetryError\u001b[0m: HTTPConnectionPool(host='127.0.0.1', port=5000): Max retries exceeded with url: /predictions (Caused by NewConnectionError('<urllib3.connection.HTTPConnection object at 0x7fdf9929e0d0>: Failed to establish a new connection: [Errno 111] Connection refused'))",
            "\nDuring handling of the above exception, another exception occurred:\n",
            "\u001b[0;31mConnectionError\u001b[0m                           Traceback (most recent call last)",
            "\u001b[0;32m<ipython-input-417-e4374fa8c04b>\u001b[0m in \u001b[0;36m<module>\u001b[0;34m\u001b[0m\n\u001b[0;32m----> 1\u001b[0;31m \u001b[0mr\u001b[0m \u001b[0;34m=\u001b[0m \u001b[0mrequests\u001b[0m\u001b[0;34m.\u001b[0m\u001b[0mpost\u001b[0m\u001b[0;34m(\u001b[0m\u001b[0;34m\"http://127.0.0.1:5000/predictions\"\u001b[0m\u001b[0;34m,\u001b[0m \u001b[0mdata\u001b[0m\u001b[0;34m=\u001b[0m\u001b[0mdata\u001b[0m\u001b[0;34m,\u001b[0m \u001b[0mheaders\u001b[0m\u001b[0;34m=\u001b[0m\u001b[0;34m{\u001b[0m\u001b[0;34m\"Content-Type\"\u001b[0m\u001b[0;34m:\u001b[0m \u001b[0;34m\"application/json\"\u001b[0m\u001b[0;34m}\u001b[0m\u001b[0;34m)\u001b[0m\u001b[0;34m\u001b[0m\u001b[0;34m\u001b[0m\u001b[0m\n\u001b[0m",
            "\u001b[0;32m/usr/local/lib/python3.7/dist-packages/requests/api.py\u001b[0m in \u001b[0;36mpost\u001b[0;34m(url, data, json, **kwargs)\u001b[0m\n\u001b[1;32m    117\u001b[0m     \"\"\"\n\u001b[1;32m    118\u001b[0m \u001b[0;34m\u001b[0m\u001b[0m\n\u001b[0;32m--> 119\u001b[0;31m     \u001b[0;32mreturn\u001b[0m \u001b[0mrequest\u001b[0m\u001b[0;34m(\u001b[0m\u001b[0;34m'post'\u001b[0m\u001b[0;34m,\u001b[0m \u001b[0murl\u001b[0m\u001b[0;34m,\u001b[0m \u001b[0mdata\u001b[0m\u001b[0;34m=\u001b[0m\u001b[0mdata\u001b[0m\u001b[0;34m,\u001b[0m \u001b[0mjson\u001b[0m\u001b[0;34m=\u001b[0m\u001b[0mjson\u001b[0m\u001b[0;34m,\u001b[0m \u001b[0;34m**\u001b[0m\u001b[0mkwargs\u001b[0m\u001b[0;34m)\u001b[0m\u001b[0;34m\u001b[0m\u001b[0;34m\u001b[0m\u001b[0m\n\u001b[0m\u001b[1;32m    120\u001b[0m \u001b[0;34m\u001b[0m\u001b[0m\n\u001b[1;32m    121\u001b[0m \u001b[0;34m\u001b[0m\u001b[0m\n",
            "\u001b[0;32m/usr/local/lib/python3.7/dist-packages/requests/api.py\u001b[0m in \u001b[0;36mrequest\u001b[0;34m(method, url, **kwargs)\u001b[0m\n\u001b[1;32m     59\u001b[0m     \u001b[0;31m# cases, and look like a memory leak in others.\u001b[0m\u001b[0;34m\u001b[0m\u001b[0;34m\u001b[0m\u001b[0;34m\u001b[0m\u001b[0m\n\u001b[1;32m     60\u001b[0m     \u001b[0;32mwith\u001b[0m \u001b[0msessions\u001b[0m\u001b[0;34m.\u001b[0m\u001b[0mSession\u001b[0m\u001b[0;34m(\u001b[0m\u001b[0;34m)\u001b[0m \u001b[0;32mas\u001b[0m \u001b[0msession\u001b[0m\u001b[0;34m:\u001b[0m\u001b[0;34m\u001b[0m\u001b[0;34m\u001b[0m\u001b[0m\n\u001b[0;32m---> 61\u001b[0;31m         \u001b[0;32mreturn\u001b[0m \u001b[0msession\u001b[0m\u001b[0;34m.\u001b[0m\u001b[0mrequest\u001b[0m\u001b[0;34m(\u001b[0m\u001b[0mmethod\u001b[0m\u001b[0;34m=\u001b[0m\u001b[0mmethod\u001b[0m\u001b[0;34m,\u001b[0m \u001b[0murl\u001b[0m\u001b[0;34m=\u001b[0m\u001b[0murl\u001b[0m\u001b[0;34m,\u001b[0m \u001b[0;34m**\u001b[0m\u001b[0mkwargs\u001b[0m\u001b[0;34m)\u001b[0m\u001b[0;34m\u001b[0m\u001b[0;34m\u001b[0m\u001b[0m\n\u001b[0m\u001b[1;32m     62\u001b[0m \u001b[0;34m\u001b[0m\u001b[0m\n\u001b[1;32m     63\u001b[0m \u001b[0;34m\u001b[0m\u001b[0m\n",
            "\u001b[0;32m/usr/local/lib/python3.7/dist-packages/requests/sessions.py\u001b[0m in \u001b[0;36mrequest\u001b[0;34m(self, method, url, params, data, headers, cookies, files, auth, timeout, allow_redirects, proxies, hooks, stream, verify, cert, json)\u001b[0m\n\u001b[1;32m    528\u001b[0m         }\n\u001b[1;32m    529\u001b[0m         \u001b[0msend_kwargs\u001b[0m\u001b[0;34m.\u001b[0m\u001b[0mupdate\u001b[0m\u001b[0;34m(\u001b[0m\u001b[0msettings\u001b[0m\u001b[0;34m)\u001b[0m\u001b[0;34m\u001b[0m\u001b[0;34m\u001b[0m\u001b[0m\n\u001b[0;32m--> 530\u001b[0;31m         \u001b[0mresp\u001b[0m \u001b[0;34m=\u001b[0m \u001b[0mself\u001b[0m\u001b[0;34m.\u001b[0m\u001b[0msend\u001b[0m\u001b[0;34m(\u001b[0m\u001b[0mprep\u001b[0m\u001b[0;34m,\u001b[0m \u001b[0;34m**\u001b[0m\u001b[0msend_kwargs\u001b[0m\u001b[0;34m)\u001b[0m\u001b[0;34m\u001b[0m\u001b[0;34m\u001b[0m\u001b[0m\n\u001b[0m\u001b[1;32m    531\u001b[0m \u001b[0;34m\u001b[0m\u001b[0m\n\u001b[1;32m    532\u001b[0m         \u001b[0;32mreturn\u001b[0m \u001b[0mresp\u001b[0m\u001b[0;34m\u001b[0m\u001b[0;34m\u001b[0m\u001b[0m\n",
            "\u001b[0;32m/usr/local/lib/python3.7/dist-packages/requests/sessions.py\u001b[0m in \u001b[0;36msend\u001b[0;34m(self, request, **kwargs)\u001b[0m\n\u001b[1;32m    641\u001b[0m \u001b[0;34m\u001b[0m\u001b[0m\n\u001b[1;32m    642\u001b[0m         \u001b[0;31m# Send the request\u001b[0m\u001b[0;34m\u001b[0m\u001b[0;34m\u001b[0m\u001b[0;34m\u001b[0m\u001b[0m\n\u001b[0;32m--> 643\u001b[0;31m         \u001b[0mr\u001b[0m \u001b[0;34m=\u001b[0m \u001b[0madapter\u001b[0m\u001b[0;34m.\u001b[0m\u001b[0msend\u001b[0m\u001b[0;34m(\u001b[0m\u001b[0mrequest\u001b[0m\u001b[0;34m,\u001b[0m \u001b[0;34m**\u001b[0m\u001b[0mkwargs\u001b[0m\u001b[0;34m)\u001b[0m\u001b[0;34m\u001b[0m\u001b[0;34m\u001b[0m\u001b[0m\n\u001b[0m\u001b[1;32m    644\u001b[0m \u001b[0;34m\u001b[0m\u001b[0m\n\u001b[1;32m    645\u001b[0m         \u001b[0;31m# Total elapsed time of the request (approximately)\u001b[0m\u001b[0;34m\u001b[0m\u001b[0;34m\u001b[0m\u001b[0;34m\u001b[0m\u001b[0m\n",
            "\u001b[0;32m/usr/local/lib/python3.7/dist-packages/requests/adapters.py\u001b[0m in \u001b[0;36msend\u001b[0;34m(self, request, stream, timeout, verify, cert, proxies)\u001b[0m\n\u001b[1;32m    514\u001b[0m                 \u001b[0;32mraise\u001b[0m \u001b[0mSSLError\u001b[0m\u001b[0;34m(\u001b[0m\u001b[0me\u001b[0m\u001b[0;34m,\u001b[0m \u001b[0mrequest\u001b[0m\u001b[0;34m=\u001b[0m\u001b[0mrequest\u001b[0m\u001b[0;34m)\u001b[0m\u001b[0;34m\u001b[0m\u001b[0;34m\u001b[0m\u001b[0m\n\u001b[1;32m    515\u001b[0m \u001b[0;34m\u001b[0m\u001b[0m\n\u001b[0;32m--> 516\u001b[0;31m             \u001b[0;32mraise\u001b[0m \u001b[0mConnectionError\u001b[0m\u001b[0;34m(\u001b[0m\u001b[0me\u001b[0m\u001b[0;34m,\u001b[0m \u001b[0mrequest\u001b[0m\u001b[0;34m=\u001b[0m\u001b[0mrequest\u001b[0m\u001b[0;34m)\u001b[0m\u001b[0;34m\u001b[0m\u001b[0;34m\u001b[0m\u001b[0m\n\u001b[0m\u001b[1;32m    517\u001b[0m \u001b[0;34m\u001b[0m\u001b[0m\n\u001b[1;32m    518\u001b[0m         \u001b[0;32mexcept\u001b[0m \u001b[0mClosedPoolError\u001b[0m \u001b[0;32mas\u001b[0m \u001b[0me\u001b[0m\u001b[0;34m:\u001b[0m\u001b[0;34m\u001b[0m\u001b[0;34m\u001b[0m\u001b[0m\n",
            "\u001b[0;31mConnectionError\u001b[0m: HTTPConnectionPool(host='127.0.0.1', port=5000): Max retries exceeded with url: /predictions (Caused by NewConnectionError('<urllib3.connection.HTTPConnection object at 0x7fdf9929e0d0>: Failed to establish a new connection: [Errno 111] Connection refused'))"
          ]
        }
      ]
    },
    {
      "cell_type": "markdown",
      "source": [
        "Average ict skewing results for low minute players"
      ],
      "metadata": {
        "id": "WcA4MSUNijzx"
      }
    },
    {
      "cell_type": "code",
      "source": [
        "model.tree_.max_depth"
      ],
      "metadata": {
        "id": "OJb7r3Qeip07",
        "colab": {
          "base_uri": "https://localhost:8080/"
        },
        "outputId": "916fd08b-d7d0-49b6-d99d-98187980bcc7"
      },
      "execution_count": 312,
      "outputs": [
        {
          "output_type": "execute_result",
          "data": {
            "text/plain": [
              "31"
            ]
          },
          "metadata": {},
          "execution_count": 312
        }
      ]
    }
  ],
  "metadata": {
    "colab": {
      "collapsed_sections": [],
      "provenance": [],
      "include_colab_link": true
    },
    "kernelspec": {
      "display_name": "Python 3 (ipykernel)",
      "language": "python",
      "name": "python3"
    },
    "language_info": {
      "codemirror_mode": {
        "name": "ipython",
        "version": 3
      },
      "file_extension": ".py",
      "mimetype": "text/x-python",
      "name": "python",
      "nbconvert_exporter": "python",
      "pygments_lexer": "ipython3",
      "version": "3.10.6"
    }
  },
  "nbformat": 4,
  "nbformat_minor": 0
}