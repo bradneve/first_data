{
 "cells": [
  {
   "cell_type": "markdown",
   "metadata": {
    "colab_type": "text",
    "id": "view-in-github"
   },
   "source": [
    "<a href=\"https://colab.research.google.com/github/bradneve/first_machine_learning-_model_final_project/blob/main/Untitled2.ipynb\" target=\"_parent\"><img src=\"https://colab.research.google.com/assets/colab-badge.svg\" alt=\"Open In Colab\"/></a>"
   ]
  },
  {
   "cell_type": "code",
   "execution_count": 1,
   "metadata": {
    "id": "vmeD3wM7l2if"
   },
   "outputs": [],
   "source": [
    "import requests\n",
    "import json\n",
    "import csv\n",
    "import pandas as pd\n",
    "from numpy import nan\n",
    "import seaborn as sns\n",
    "# import aiohttp\n",
    "# import nest_asyncio\n",
    "# import asyncio\n",
    "# from fpl import FPL\n",
    "import matplotlib.pyplot as plt\n",
    "from sklearn.model_selection import train_test_split\n",
    "from sklearn.tree import DecisionTreeClassifier, plot_tree"
   ]
  },
  {
   "cell_type": "code",
   "execution_count": 2,
   "metadata": {
    "id": "zT84yib-nsyX"
   },
   "outputs": [],
   "source": [
    "# pip install fpl"
   ]
  },
  {
   "cell_type": "code",
   "execution_count": 3,
   "metadata": {
    "colab": {
     "base_uri": "https://localhost:8080/"
    },
    "id": "CfgJvh9UoZqi",
    "outputId": "16e19887-9dba-4dd3-d913-08fddfaa918d"
   },
   "outputs": [
    {
     "name": "stdout",
     "output_type": "stream",
     "text": [
      "Requirement already satisfied: nest-asyncio in /Users/jakerinahmed/.pyenv/versions/3.10.6/lib/python3.10/site-packages (1.5.6)\n",
      "\n",
      "\u001b[1m[\u001b[0m\u001b[34;49mnotice\u001b[0m\u001b[1;39;49m]\u001b[0m\u001b[39;49m A new release of pip available: \u001b[0m\u001b[31;49m22.2.1\u001b[0m\u001b[39;49m -> \u001b[0m\u001b[32;49m22.3\u001b[0m\n",
      "\u001b[1m[\u001b[0m\u001b[34;49mnotice\u001b[0m\u001b[1;39;49m]\u001b[0m\u001b[39;49m To update, run: \u001b[0m\u001b[32;49mpip install --upgrade pip\u001b[0m\n",
      "Note: you may need to restart the kernel to use updated packages.\n"
     ]
    }
   ],
   "source": [
    "pip install nest-asyncio"
   ]
  },
  {
   "cell_type": "code",
   "execution_count": 4,
   "metadata": {
    "id": "RVkngSo3myfI"
   },
   "outputs": [],
   "source": [
    "# async def main():\n",
    "#     async with aiohttp.ClientSession() as session:\n",
    "#         fpl = FPL(session)\n",
    "#         player = await fpl.get_player(629)\n",
    "#     print(player)\n",
    "\n",
    "# nest_asyncio.apply()\n",
    "# asyncio.run(main())"
   ]
  },
  {
   "cell_type": "code",
   "execution_count": 5,
   "metadata": {
    "id": "VtxR1o_uFphj"
   },
   "outputs": [],
   "source": [
    "name_response = requests.get(\"https://fantasy.premierleague.com/api/bootstrap-static/\")\n",
    "names = name_response.json()[\"elements\"]"
   ]
  },
  {
   "cell_type": "code",
   "execution_count": 7,
   "metadata": {
    "id": "vi2tSKTPqG4R"
   },
   "outputs": [],
   "source": [
    "games_data = []\n",
    "for i in range(1, len(names)):\n",
    "  for x in names:\n",
    "    if x[\"id\"] == i:\n",
    "      boostrap_player_data = x\n",
    "      break\n",
    "  response = requests.get(f\"https://fantasy.premierleague.com/api/element-summary/{i}/\")\n",
    "  player_games_data = response.json()\n",
    "  prev_game = {\"influence\":0, \"summed_influence\":0, \"creativity\":0, \"summed_creativity\":0, \"threat\":0, \"summed_threat\":0,\"summed_ict\": 0, \"ict_index\": 0, \"minutes\": 0, \"total_mins\": 0, \"total_goals\": 0, \"goals_scored\": 0, \"goals_conceded\": 0, \"total_goals_conceded\": 0, \"total_assists\": 0, \"assists\": 0}\n",
    "  for x in player_games_data[\"history\"]:\n",
    "    x[\"position\"] = boostrap_player_data[\"element_type\"]\n",
    "    if prev_game[\"total_mins\"] == 0 :\n",
    "      x[\"value\"] = float(x[\"value\"])\n",
    "      x[\"influence\"] = float(x[\"influence\"])\n",
    "      x[\"creativity\"] = float(x[\"creativity\"])\n",
    "      x[\"threat\"] = float(x[\"threat\"])\n",
    "      x[\"summed_influence\"] = prev_game[\"summed_influence\"] + prev_game[\"influence\"]\n",
    "      x[\"summed_creativity\"] = prev_game[\"summed_creativity\"] + prev_game[\"creativity\"]\n",
    "      x[\"summed_threat\"] = prev_game[\"summed_threat\"] + prev_game[\"threat\"]\n",
    "      x[\"ict_index\"] = float(x[\"ict_index\"])\n",
    "      x[\"summed_ict\"] = prev_game[\"summed_ict\"] + prev_game[\"ict_index\"]\n",
    "      x[\"total_mins\"] = prev_game[\"minutes\"] + prev_game[\"total_mins\"]\n",
    "      x[\"total_goals\"] = prev_game[\"goals_scored\"] + prev_game[\"total_goals\"]\n",
    "      x[\"total_goals_conceded\"] = prev_game[\"goals_conceded\"] + prev_game[\"total_goals_conceded\"]\n",
    "      x[\"total_assists\"] = prev_game[\"assists\"] + prev_game[\"total_assists\"]\n",
    "      x[\"average_influence_per_90\"] = prev_game[\"summed_influence\"]\n",
    "      x[\"average_creativity_per_90\"] = prev_game[\"summed_creativity\"]\n",
    "      x[\"average_threat_per_90\"] = prev_game[\"summed_threat\"]\n",
    "      x[\"average_ict_per_90\"] = prev_game[\"summed_ict\"]\n",
    "      x[\"average_goals_per_90\"] = prev_game[\"total_goals\"]\n",
    "      x[\"average_goals_conceded_per_90\"] = prev_game[\"total_goals_conceded\"]\n",
    "      x[\"average_assists_per_90\"] = prev_game[\"total_assists\"]\n",
    "      games_data.append(x)\n",
    "      prev_game = x\n",
    "    else:\n",
    "      x[\"value\"] = float(x[\"value\"])\n",
    "      x[\"influence\"] = float(x[\"influence\"])\n",
    "      x[\"creativity\"] = float(x[\"creativity\"])\n",
    "      x[\"threat\"] = float(x[\"threat\"])\n",
    "      x[\"summed_influence\"] = prev_game[\"summed_influence\"] + prev_game[\"influence\"]\n",
    "      x[\"summed_creativity\"] = prev_game[\"summed_creativity\"] + prev_game[\"creativity\"]\n",
    "      x[\"summed_threat\"] = prev_game[\"summed_threat\"] + prev_game[\"threat\"]\n",
    "      x[\"ict_index\"] = float(x[\"ict_index\"])\n",
    "      x[\"summed_ict\"] = prev_game[\"summed_ict\"] + prev_game[\"ict_index\"]\n",
    "      x[\"total_mins\"] = prev_game[\"minutes\"] + prev_game[\"total_mins\"]\n",
    "      x[\"total_goals\"] = prev_game[\"goals_scored\"] + prev_game[\"total_goals\"]\n",
    "      x[\"total_assists\"] = prev_game[\"assists\"] + prev_game[\"total_assists\"]\n",
    "      x[\"total_goals_conceded\"] = prev_game[\"goals_conceded\"] + prev_game[\"total_goals_conceded\"]\n",
    "      x[\"average_influence_per_90\"] = 90*prev_game[\"summed_influence\"]/prev_game[\"total_mins\"]\n",
    "      x[\"average_creativity_per_90\"] = 90*prev_game[\"summed_creativity\"]/prev_game[\"total_mins\"]\n",
    "      x[\"average_threat_per_90\"] = 90*prev_game[\"summed_threat\"]/prev_game[\"total_mins\"]\n",
    "      x[\"average_ict_per_90\"] = 90*prev_game[\"summed_ict\"]/prev_game[\"total_mins\"]\n",
    "      x[\"average_goals_per_90\"] = 90*prev_game[\"total_goals\"]/prev_game[\"total_mins\"]\n",
    "      x[\"average_goals_conceded_per_90\"] = 90*prev_game[\"total_goals_conceded\"]/prev_game[\"total_mins\"]\n",
    "      x[\"average_assists_per_90\"] = 90*prev_game[\"total_assists\"]/prev_game[\"total_mins\"]\n",
    "      games_data.append(x)\n",
    "      prev_game = x\n",
    "    \n",
    "\n",
    "\n",
    "\n",
    "# print(games_data)\n",
    "\n"
   ]
  },
  {
   "cell_type": "code",
   "execution_count": 8,
   "metadata": {
    "id": "S1U8iQYpvaQS"
   },
   "outputs": [],
   "source": [
    "def select_data(player):\n",
    "    return {\n",
    "        \"total_points\": player[\"total_points\"],\n",
    "        \"position\": player[\"position\"],\n",
    "        \"was_home\": player[\"was_home\"],\n",
    "        \"opponent_team\": player[\"opponent_team\"],\n",
    "        \"average_goals_per_90\": player[\"average_goals_per_90\"],\n",
    "        \"average_assists_per_90\": player[\"average_assists_per_90\"],\n",
    "        \"average_ict_per_90\": player[\"average_ict_per_90\"],\n",
    "        \"average_goals_conceded_per_90\": player[\"average_goals_conceded_per_90\"],\n",
    "        \"average_influence_per_90\": player[\"average_influence_per_90\"],\n",
    "        \"average_creativity_per_90\": player[\"average_creativity_per_90\"],\n",
    "        \"average_threat_per_90\": player[\"average_threat_per_90\"],\n",
    "        \"value\": player[\"value\"]\n",
    "    }\n",
    "\n",
    "for i in range(len(games_data)):\n",
    "  games_data[i] = select_data(games_data[i])\n",
    "\n",
    "# print(games_data)"
   ]
  },
  {
   "cell_type": "code",
   "execution_count": 9,
   "metadata": {
    "id": "5VIavgw6wzOk"
   },
   "outputs": [],
   "source": [
    "headers = ['total_points', \"position\", 'was_home', 'opponent_team', 'average_goals_per_90', \"average_assists_per_90\", \"average_ict_per_90\", \"average_goals_conceded_per_90\", \"value\", \"average_influence_per_90\", \"average_creativity_per_90\", \"average_threat_per_90\"]\n",
    "\n",
    "with open(\"player_data.csv\", \"w\", newline='') as file:\n",
    "    f = csv.writer(file)\n",
    "    f.writerow(headers)\n",
    "    for p in games_data:\n",
    "        values = [p[h] for h in headers]\n",
    "        f.writerow(values)"
   ]
  },
  {
   "cell_type": "code",
   "execution_count": 10,
   "metadata": {
    "id": "xDB6I1npxe3i"
   },
   "outputs": [],
   "source": [
    "player_data = pd.read_csv('player_data.csv')"
   ]
  },
  {
   "cell_type": "code",
   "execution_count": 11,
   "metadata": {
    "colab": {
     "base_uri": "https://localhost:8080/"
    },
    "id": "Uv_B8h4Uxn9q",
    "outputId": "a1d32245-1263-4e55-b00f-7b8ebf302d6a"
   },
   "outputs": [
    {
     "data": {
      "text/plain": [
       "Index(['total_points', 'position', 'was_home', 'opponent_team',\n",
       "       'average_goals_per_90', 'average_assists_per_90', 'average_ict_per_90',\n",
       "       'average_goals_conceded_per_90', 'value', 'average_influence_per_90',\n",
       "       'average_creativity_per_90', 'average_threat_per_90'],\n",
       "      dtype='object')"
      ]
     },
     "execution_count": 11,
     "metadata": {},
     "output_type": "execute_result"
    }
   ],
   "source": [
    "player_data.columns"
   ]
  },
  {
   "cell_type": "markdown",
   "metadata": {
    "id": "DFu3QvyNyJjo"
   },
   "source": []
  },
  {
   "cell_type": "code",
   "execution_count": 12,
   "metadata": {
    "id": "gxA_hILMxzw4"
   },
   "outputs": [],
   "source": [
    "y = player_data[\"total_points\"]\n",
    "\n",
    "X = player_data[['position', 'was_home', 'opponent_team', 'average_goals_per_90',\n",
    "       'average_assists_per_90', 'average_ict_per_90', 'average_goals_conceded_per_90', 'value', 'average_influence_per_90',\n",
    "                'average_creativity_per_90', 'average_threat_per_90']]"
   ]
  },
  {
   "cell_type": "code",
   "execution_count": 29,
   "metadata": {
    "id": "4Lm9nDh0yNr8"
   },
   "outputs": [],
   "source": [
    "X_train, X_test, y_train, y_test = train_test_split(X, y, test_size=0.5, random_state=500)"
   ]
  },
  {
   "cell_type": "code",
   "execution_count": 30,
   "metadata": {
    "id": "zF81Mjllyq9K"
   },
   "outputs": [],
   "source": [
    "model = DecisionTreeClassifier()"
   ]
  },
  {
   "cell_type": "code",
   "execution_count": 31,
   "metadata": {
    "colab": {
     "base_uri": "https://localhost:8080/"
    },
    "id": "r_ovrE37ytcO",
    "outputId": "901f515e-9759-48f6-acd4-31065ff6578e"
   },
   "outputs": [
    {
     "data": {
      "text/html": [
       "<style>#sk-container-id-5 {color: black;background-color: white;}#sk-container-id-5 pre{padding: 0;}#sk-container-id-5 div.sk-toggleable {background-color: white;}#sk-container-id-5 label.sk-toggleable__label {cursor: pointer;display: block;width: 100%;margin-bottom: 0;padding: 0.3em;box-sizing: border-box;text-align: center;}#sk-container-id-5 label.sk-toggleable__label-arrow:before {content: \"▸\";float: left;margin-right: 0.25em;color: #696969;}#sk-container-id-5 label.sk-toggleable__label-arrow:hover:before {color: black;}#sk-container-id-5 div.sk-estimator:hover label.sk-toggleable__label-arrow:before {color: black;}#sk-container-id-5 div.sk-toggleable__content {max-height: 0;max-width: 0;overflow: hidden;text-align: left;background-color: #f0f8ff;}#sk-container-id-5 div.sk-toggleable__content pre {margin: 0.2em;color: black;border-radius: 0.25em;background-color: #f0f8ff;}#sk-container-id-5 input.sk-toggleable__control:checked~div.sk-toggleable__content {max-height: 200px;max-width: 100%;overflow: auto;}#sk-container-id-5 input.sk-toggleable__control:checked~label.sk-toggleable__label-arrow:before {content: \"▾\";}#sk-container-id-5 div.sk-estimator input.sk-toggleable__control:checked~label.sk-toggleable__label {background-color: #d4ebff;}#sk-container-id-5 div.sk-label input.sk-toggleable__control:checked~label.sk-toggleable__label {background-color: #d4ebff;}#sk-container-id-5 input.sk-hidden--visually {border: 0;clip: rect(1px 1px 1px 1px);clip: rect(1px, 1px, 1px, 1px);height: 1px;margin: -1px;overflow: hidden;padding: 0;position: absolute;width: 1px;}#sk-container-id-5 div.sk-estimator {font-family: monospace;background-color: #f0f8ff;border: 1px dotted black;border-radius: 0.25em;box-sizing: border-box;margin-bottom: 0.5em;}#sk-container-id-5 div.sk-estimator:hover {background-color: #d4ebff;}#sk-container-id-5 div.sk-parallel-item::after {content: \"\";width: 100%;border-bottom: 1px solid gray;flex-grow: 1;}#sk-container-id-5 div.sk-label:hover label.sk-toggleable__label {background-color: #d4ebff;}#sk-container-id-5 div.sk-serial::before {content: \"\";position: absolute;border-left: 1px solid gray;box-sizing: border-box;top: 0;bottom: 0;left: 50%;z-index: 0;}#sk-container-id-5 div.sk-serial {display: flex;flex-direction: column;align-items: center;background-color: white;padding-right: 0.2em;padding-left: 0.2em;position: relative;}#sk-container-id-5 div.sk-item {position: relative;z-index: 1;}#sk-container-id-5 div.sk-parallel {display: flex;align-items: stretch;justify-content: center;background-color: white;position: relative;}#sk-container-id-5 div.sk-item::before, #sk-container-id-5 div.sk-parallel-item::before {content: \"\";position: absolute;border-left: 1px solid gray;box-sizing: border-box;top: 0;bottom: 0;left: 50%;z-index: -1;}#sk-container-id-5 div.sk-parallel-item {display: flex;flex-direction: column;z-index: 1;position: relative;background-color: white;}#sk-container-id-5 div.sk-parallel-item:first-child::after {align-self: flex-end;width: 50%;}#sk-container-id-5 div.sk-parallel-item:last-child::after {align-self: flex-start;width: 50%;}#sk-container-id-5 div.sk-parallel-item:only-child::after {width: 0;}#sk-container-id-5 div.sk-dashed-wrapped {border: 1px dashed gray;margin: 0 0.4em 0.5em 0.4em;box-sizing: border-box;padding-bottom: 0.4em;background-color: white;}#sk-container-id-5 div.sk-label label {font-family: monospace;font-weight: bold;display: inline-block;line-height: 1.2em;}#sk-container-id-5 div.sk-label-container {text-align: center;}#sk-container-id-5 div.sk-container {/* jupyter's `normalize.less` sets `[hidden] { display: none; }` but bootstrap.min.css set `[hidden] { display: none !important; }` so we also need the `!important` here to be able to override the default hidden behavior on the sphinx rendered scikit-learn.org. See: https://github.com/scikit-learn/scikit-learn/issues/21755 */display: inline-block !important;position: relative;}#sk-container-id-5 div.sk-text-repr-fallback {display: none;}</style><div id=\"sk-container-id-5\" class=\"sk-top-container\"><div class=\"sk-text-repr-fallback\"><pre>DecisionTreeClassifier()</pre><b>In a Jupyter environment, please rerun this cell to show the HTML representation or trust the notebook. <br />On GitHub, the HTML representation is unable to render, please try loading this page with nbviewer.org.</b></div><div class=\"sk-container\" hidden><div class=\"sk-item\"><div class=\"sk-estimator sk-toggleable\"><input class=\"sk-toggleable__control sk-hidden--visually\" id=\"sk-estimator-id-5\" type=\"checkbox\" checked><label for=\"sk-estimator-id-5\" class=\"sk-toggleable__label sk-toggleable__label-arrow\">DecisionTreeClassifier</label><div class=\"sk-toggleable__content\"><pre>DecisionTreeClassifier()</pre></div></div></div></div></div>"
      ],
      "text/plain": [
       "DecisionTreeClassifier()"
      ]
     },
     "execution_count": 31,
     "metadata": {},
     "output_type": "execute_result"
    }
   ],
   "source": [
    "model.fit(X_train, y_train)"
   ]
  },
  {
   "cell_type": "code",
   "execution_count": 32,
   "metadata": {
    "colab": {
     "base_uri": "https://localhost:8080/"
    },
    "id": "qJLPZlfDywCO",
    "outputId": "a1e78e40-f599-41e8-a09f-cc7e0df397aa"
   },
   "outputs": [
    {
     "data": {
      "text/plain": [
       "0.5434782608695652"
      ]
     },
     "execution_count": 32,
     "metadata": {},
     "output_type": "execute_result"
    }
   ],
   "source": [
    "model.score(X_test, y_test)"
   ]
  },
  {
   "cell_type": "code",
   "execution_count": null,
   "metadata": {},
   "outputs": [],
   "source": []
  }
 ],
 "metadata": {
  "colab": {
   "authorship_tag": "ABX9TyOsbmVUaK98Rx7F3Vb41H/T",
   "collapsed_sections": [],
   "include_colab_link": true,
   "provenance": []
  },
  "kernelspec": {
   "display_name": "Python 3 (ipykernel)",
   "language": "python",
   "name": "python3"
  },
  "language_info": {
   "codemirror_mode": {
    "name": "ipython",
    "version": 3
   },
   "file_extension": ".py",
   "mimetype": "text/x-python",
   "name": "python",
   "nbconvert_exporter": "python",
   "pygments_lexer": "ipython3",
   "version": "3.10.6"
  }
 },
 "nbformat": 4,
 "nbformat_minor": 4
}
