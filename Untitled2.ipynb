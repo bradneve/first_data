{
  "cells": [
    {
      "cell_type": "markdown",
      "metadata": {
        "id": "view-in-github",
        "colab_type": "text"
      },
      "source": [
        "<a href=\"https://colab.research.google.com/github/bradneve/first_machine_learning-_model_final_project/blob/main/Untitled2.ipynb\" target=\"_parent\"><img src=\"https://colab.research.google.com/assets/colab-badge.svg\" alt=\"Open In Colab\"/></a>"
      ]
    },
    {
      "cell_type": "code",
      "execution_count": 6,
      "metadata": {
        "id": "vmeD3wM7l2if"
      },
      "outputs": [],
      "source": [
        "import requests\n",
        "import json\n",
        "import csv\n",
        "import pandas as pd\n",
        "from numpy import nan\n",
        "import seaborn as sns\n",
        "import aiohttp\n",
        "import nest_asyncio\n",
        "import asyncio\n",
        "from fpl import FPL\n",
        "import matplotlib.pyplot as plt\n",
        "from sklearn.model_selection import train_test_split\n",
        "from sklearn.tree import DecisionTreeClassifier, plot_tree"
      ]
    },
    {
      "cell_type": "code",
      "execution_count": 7,
      "metadata": {
        "id": "zT84yib-nsyX"
      },
      "outputs": [],
      "source": [
        "# pip install fpl"
      ]
    },
    {
      "cell_type": "code",
      "execution_count": 8,
      "metadata": {
        "colab": {
          "base_uri": "https://localhost:8080/"
        },
        "id": "CfgJvh9UoZqi",
        "outputId": "16e19887-9dba-4dd3-d913-08fddfaa918d"
      },
      "outputs": [
        {
          "output_type": "stream",
          "name": "stdout",
          "text": [
            "Looking in indexes: https://pypi.org/simple, https://us-python.pkg.dev/colab-wheels/public/simple/\n",
            "Requirement already satisfied: nest-asyncio in /usr/local/lib/python3.7/dist-packages (1.5.6)\n"
          ]
        }
      ],
      "source": [
        "pip install nest-asyncio"
      ]
    },
    {
      "cell_type": "code",
      "execution_count": 9,
      "metadata": {
        "id": "RVkngSo3myfI"
      },
      "outputs": [],
      "source": [
        "# async def main():\n",
        "#     async with aiohttp.ClientSession() as session:\n",
        "#         fpl = FPL(session)\n",
        "#         player = await fpl.get_player(629)\n",
        "#     print(player)\n",
        "\n",
        "# nest_asyncio.apply()\n",
        "# asyncio.run(main())"
      ]
    },
    {
      "cell_type": "code",
      "source": [
        "name_response = requests.get(\"https://fantasy.premierleague.com/api/bootstrap-static/\")\n",
        "names = name_response.json()[\"elements\"]"
      ],
      "metadata": {
        "id": "VtxR1o_uFphj"
      },
      "execution_count": 112,
      "outputs": []
    },
    {
      "cell_type": "code",
      "execution_count": 118,
      "metadata": {
        "id": "vi2tSKTPqG4R"
      },
      "outputs": [],
      "source": [
        "games_data = []\n",
        "for i in range(1, 629):\n",
        "  for x in names:\n",
        "    if x[\"id\"] == i:\n",
        "      boostrap_player_data = x\n",
        "      break\n",
        "  response = requests.get(f\"https://fantasy.premierleague.com/api/element-summary/{i}/\")\n",
        "  player_games_data = response.json()\n",
        "  prev_game = {\"summed_ict\": 0, \"ict_index\": 0, \"minutes\": 0, \"total_mins\": 0, \"total_goals\": 0, \"goals_scored\": 0, \"goals_conceded\": 0, \"total_goals_conceded\": 0, \"total_assists\": 0, \"assists\": 0}\n",
        "  for x in player_games_data[\"history\"]:\n",
        "    x[\"position\"] = boostrap_player_data[\"element_type\"]\n",
        "    if prev_game[\"total_mins\"] == 0 :\n",
        "      x[\"ict_index\"] = float(x[\"ict_index\"])\n",
        "      x[\"summed_ict\"] = prev_game[\"summed_ict\"] + prev_game[\"ict_index\"]\n",
        "      x[\"total_mins\"] = prev_game[\"minutes\"] + prev_game[\"total_mins\"]\n",
        "      x[\"total_goals\"] = prev_game[\"goals_scored\"] + prev_game[\"total_goals\"]\n",
        "      x[\"total_goals_conceded\"] = prev_game[\"goals_conceded\"] + prev_game[\"total_goals_conceded\"]\n",
        "      x[\"total_assists\"] = prev_game[\"assists\"] + prev_game[\"total_assists\"]\n",
        "      x[\"average_ict_per_90\"] = prev_game[\"summed_ict\"]\n",
        "      x[\"average_goals_per_90\"] = prev_game[\"total_goals\"]\n",
        "      x[\"average_goals_conceded_per_90\"] = prev_game[\"total_goals_conceded\"]\n",
        "      x[\"average_assists_per_90\"] = prev_game[\"total_assists\"]\n",
        "      games_data.append(x)\n",
        "      prev_game = x\n",
        "    else:\n",
        "      x[\"ict_index\"] = float(x[\"ict_index\"])\n",
        "      x[\"summed_ict\"] = prev_game[\"summed_ict\"] + prev_game[\"ict_index\"]\n",
        "      x[\"total_mins\"] = prev_game[\"minutes\"] + prev_game[\"total_mins\"]\n",
        "      x[\"total_goals\"] = prev_game[\"goals_scored\"] + prev_game[\"total_goals\"]\n",
        "      x[\"total_assists\"] = prev_game[\"assists\"] + prev_game[\"total_assists\"]\n",
        "      x[\"total_goals_conceded\"] = prev_game[\"goals_conceded\"] + prev_game[\"total_goals_conceded\"]\n",
        "      x[\"average_ict_per_90\"] = 90*prev_game[\"summed_ict\"]/prev_game[\"total_mins\"]\n",
        "      x[\"average_goals_per_90\"] = 90*prev_game[\"total_goals\"]/prev_game[\"total_mins\"]\n",
        "      x[\"average_goals_conceded_per_90\"] = 90*prev_game[\"total_goals_conceded\"]/prev_game[\"total_mins\"]\n",
        "      x[\"average_assists_per_90\"] = 90*prev_game[\"total_assists\"]/prev_game[\"total_mins\"]\n",
        "      games_data.append(x)\n",
        "      prev_game = x\n",
        "    \n",
        "\n",
        "\n",
        "\n",
        "# print(games_data)\n",
        "\n"
      ]
    },
    {
      "cell_type": "code",
      "execution_count": 147,
      "metadata": {
        "id": "S1U8iQYpvaQS"
      },
      "outputs": [],
      "source": [
        "def select_data(player):\n",
        "    return {\n",
        "        \"total_points\": player[\"total_points\"],\n",
        "        \"position\": player[\"position\"],\n",
        "        \"was_home\": player[\"was_home\"],\n",
        "        \"opponent_team\": player[\"opponent_team\"],\n",
        "        \"average_goals_per_90\": player[\"average_goals_per_90\"],\n",
        "        \"average_assists_per_90\": player[\"average_assists_per_90\"],\n",
        "        \"average_ict_per_90\": player[\"average_ict_per_90\"],\n",
        "        \"average_goals_conceded_per_90\": player[\"average_goals_conceded_per_90\"],\n",
        "    }\n",
        "\n",
        "for i in range(len(games_data)):\n",
        "  games_data[i] = select_data(games_data[i])\n",
        "\n",
        "# print(games_data)"
      ]
    },
    {
      "cell_type": "code",
      "execution_count": 121,
      "metadata": {
        "id": "5VIavgw6wzOk"
      },
      "outputs": [],
      "source": [
        "headers = ['total_points', \"position\", 'was_home', 'opponent_team', 'average_goals_per_90', \"average_assists_per_90\", \"average_ict_per_90\", \"average_goals_conceded_per_90\"]\n",
        "\n",
        "with open(\"player_data.csv\", \"w\", newline='') as file:\n",
        "    f = csv.writer(file)\n",
        "    f.writerow(headers)\n",
        "    for p in games_data:\n",
        "        values = [p[h] for h in headers]\n",
        "        f.writerow(values)"
      ]
    },
    {
      "cell_type": "code",
      "execution_count": 122,
      "metadata": {
        "id": "xDB6I1npxe3i"
      },
      "outputs": [],
      "source": [
        "player_data = pd.read_csv('player_data.csv')"
      ]
    },
    {
      "cell_type": "code",
      "execution_count": 123,
      "metadata": {
        "colab": {
          "base_uri": "https://localhost:8080/"
        },
        "id": "Uv_B8h4Uxn9q",
        "outputId": "a1d32245-1263-4e55-b00f-7b8ebf302d6a"
      },
      "outputs": [
        {
          "output_type": "execute_result",
          "data": {
            "text/plain": [
              "Index(['total_points', 'position', 'was_home', 'opponent_team',\n",
              "       'average_goals_per_90', 'average_assists_per_90', 'average_ict_per_90',\n",
              "       'average_goals_conceded_per_90'],\n",
              "      dtype='object')"
            ]
          },
          "metadata": {},
          "execution_count": 123
        }
      ],
      "source": [
        "player_data.columns"
      ]
    },
    {
      "cell_type": "markdown",
      "metadata": {
        "id": "DFu3QvyNyJjo"
      },
      "source": []
    },
    {
      "cell_type": "code",
      "execution_count": 124,
      "metadata": {
        "id": "gxA_hILMxzw4"
      },
      "outputs": [],
      "source": [
        "y = player_data[\"total_points\"]\n",
        "\n",
        "X = player_data[['position', 'was_home', 'opponent_team', 'average_goals_per_90',\n",
        "       'average_assists_per_90', 'average_ict_per_90', 'average_goals_conceded_per_90']]"
      ]
    },
    {
      "cell_type": "code",
      "execution_count": 125,
      "metadata": {
        "id": "4Lm9nDh0yNr8"
      },
      "outputs": [],
      "source": [
        "X_train, X_test, y_train, y_test = train_test_split(X, y, test_size=0.5, random_state=500)"
      ]
    },
    {
      "cell_type": "code",
      "execution_count": 126,
      "metadata": {
        "id": "zF81Mjllyq9K"
      },
      "outputs": [],
      "source": [
        "model = DecisionTreeClassifier()"
      ]
    },
    {
      "cell_type": "code",
      "execution_count": 144,
      "metadata": {
        "colab": {
          "base_uri": "https://localhost:8080/"
        },
        "id": "r_ovrE37ytcO",
        "outputId": "901f515e-9759-48f6-acd4-31065ff6578e"
      },
      "outputs": [
        {
          "output_type": "execute_result",
          "data": {
            "text/plain": [
              "DecisionTreeClassifier()"
            ]
          },
          "metadata": {},
          "execution_count": 144
        }
      ],
      "source": [
        "model.fit(X_train, y_train)"
      ]
    },
    {
      "cell_type": "code",
      "execution_count": 146,
      "metadata": {
        "colab": {
          "base_uri": "https://localhost:8080/"
        },
        "id": "qJLPZlfDywCO",
        "outputId": "a1e78e40-f599-41e8-a09f-cc7e0df397aa"
      },
      "outputs": [
        {
          "output_type": "execute_result",
          "data": {
            "text/plain": [
              "0.5350803043110736"
            ]
          },
          "metadata": {},
          "execution_count": 146
        }
      ],
      "source": [
        "model.score(X_test, y_test)"
      ]
    }
  ],
  "metadata": {
    "colab": {
      "provenance": [],
      "collapsed_sections": [],
      "authorship_tag": "ABX9TyOsbmVUaK98Rx7F3Vb41H/T",
      "include_colab_link": true
    },
    "kernelspec": {
      "display_name": "Python 3",
      "name": "python3"
    },
    "language_info": {
      "name": "python"
    }
  },
  "nbformat": 4,
  "nbformat_minor": 0
}